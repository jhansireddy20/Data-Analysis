{
 "cells": [
  {
   "cell_type": "markdown",
   "id": "29f928f5",
   "metadata": {},
   "source": [
    "# Predictive Analysis Using Machine Learning"
   ]
  },
  {
   "cell_type": "markdown",
   "id": "9e5ef73a",
   "metadata": {},
   "source": [
    "### Step 1: Load and Explore Data"
   ]
  },
  {
   "cell_type": "code",
   "execution_count": null,
   "id": "6d627992",
   "metadata": {},
   "outputs": [],
   "source": [
    "import pandas as pd\n",
    "\n",
    "# Load dataset\n",
    "df = pd.read_csv(\"marketing_sales_data.csv\")\n",
    "\n",
    "# Display basic information\n",
    "df.info()\n",
    "df.head()"
   ]
  },
  {
   "cell_type": "markdown",
   "id": "08d9fa38",
   "metadata": {},
   "source": [
    "### Step 2: Data Preprocessing"
   ]
  },
  {
   "cell_type": "code",
   "execution_count": null,
   "id": "947d3a32",
   "metadata": {},
   "outputs": [],
   "source": [
    "from sklearn.model_selection import train_test_split\n",
    "from sklearn.preprocessing import OneHotEncoder\n",
    "\n",
    "# Convert categorical columns using one-hot encoding\n",
    "df_encoded = pd.get_dummies(df, columns=['TV', 'Influencer'], drop_first=True)\n",
    "\n",
    "# Separate features and target variable\n",
    "X = df_encoded.drop(columns=['Sales'])\n",
    "y = df_encoded['Sales']\n",
    "\n",
    "# Split into training and testing sets\n",
    "X_train, X_test, y_train, y_test = train_test_split(X, y, test_size=0.2, random_state=42)\n",
    "\n",
    "# Display transformed data\n",
    "X_train.head()"
   ]
  },
  {
   "cell_type": "markdown",
   "id": "930b6ffb",
   "metadata": {},
   "source": [
    "### Step 3: Model Training (Linear Regression)"
   ]
  },
  {
   "cell_type": "code",
   "execution_count": null,
   "id": "1702c816",
   "metadata": {},
   "outputs": [],
   "source": [
    "from sklearn.linear_model import LinearRegression\n",
    "\n",
    "# Train model\n",
    "model = LinearRegression()\n",
    "model.fit(X_train, y_train)\n",
    "\n",
    "# Predict\n",
    "y_pred = model.predict(X_test)"
   ]
  },
  {
   "cell_type": "markdown",
   "id": "8c309d06",
   "metadata": {},
   "source": [
    "### Step 4: Model Evaluation"
   ]
  },
  {
   "cell_type": "code",
   "execution_count": null,
   "id": "bb40db10",
   "metadata": {},
   "outputs": [],
   "source": [
    "from sklearn.metrics import mean_absolute_error, mean_squared_error, r2_score\n",
    "\n",
    "# Evaluate model\n",
    "mae = mean_absolute_error(y_test, y_pred)\n",
    "mse = mean_squared_error(y_test, y_pred)\n",
    "r2 = r2_score(y_test, y_pred)\n",
    "\n",
    "mae, mse, r2"
   ]
  }
 ],
 "metadata": {},
 "nbformat": 4,
 "nbformat_minor": 5
}
