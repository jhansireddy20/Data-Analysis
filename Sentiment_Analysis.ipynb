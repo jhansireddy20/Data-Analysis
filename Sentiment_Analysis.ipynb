{
 "cells": [
  {
   "cell_type": "markdown",
   "id": "2dbcfbb6",
   "metadata": {},
   "source": [
    "# **Sentiment Analysis using NLP**\n",
    "This notebook performs sentiment analysis on textual data using NLP techniques.\n",
    "We'll use the Naïve Bayes classifier with TF-IDF feature extraction."
   ]
  },
  {
   "cell_type": "code",
   "execution_count": null,
   "id": "86e8f985",
   "metadata": {},
   "outputs": [],
   "source": [
    "!pip install numpy pandas scikit-learn nltk"
   ]
  },
  {
   "cell_type": "markdown",
   "id": "24392018",
   "metadata": {},
   "source": [
    "## **Step 1: Import Libraries**"
   ]
  },
  {
   "cell_type": "code",
   "execution_count": null,
   "id": "dd3d6159",
   "metadata": {},
   "outputs": [],
   "source": [
    "import numpy as np\n",
    "import pandas as pd\n",
    "import nltk\n",
    "from sklearn.model_selection import train_test_split\n",
    "from sklearn.feature_extraction.text import TfidfVectorizer\n",
    "from sklearn.naive_bayes import MultinomialNB\n",
    "from sklearn.metrics import accuracy_score, classification_report, confusion_matrix\n",
    "nltk.download('stopwords')\n",
    "nltk.download('punkt')\n",
    "from nltk.corpus import stopwords\n",
    "from nltk.tokenize import word_tokenize"
   ]
  },
  {
   "cell_type": "markdown",
   "id": "06aa7a35",
   "metadata": {},
   "source": [
    "## **Step 2: Load and Preprocess Data**"
   ]
  },
  {
   "cell_type": "code",
   "execution_count": null,
   "id": "6da2b332",
   "metadata": {},
   "outputs": [],
   "source": [
    "data = {'text': ['I love this product!', 'This is the worst experience ever.', 'Absolutely fantastic!', 'Not worth the money.', 'Great quality, I recommend it.'],\n",
    "        'sentiment': ['positive', 'negative', 'positive', 'negative', 'positive']}\n",
    "df = pd.DataFrame(data)\n",
    "df.head()"
   ]
  },
  {
   "cell_type": "markdown",
   "id": "1844374b",
   "metadata": {},
   "source": [
    "## **Step 3: Data Preprocessing**"
   ]
  },
  {
   "cell_type": "code",
   "execution_count": null,
   "id": "f335db98",
   "metadata": {},
   "outputs": [],
   "source": [
    "stop_words = set(stopwords.words('english'))\n",
    "def preprocess_text(text):\n",
    "    tokens = word_tokenize(text.lower())\n",
    "    filtered_tokens = [word for word in tokens if word.isalnum() and word not in stop_words]\n",
    "    return ' '.join(filtered_tokens)\n",
    "df['cleaned_text'] = df['text'].apply(preprocess_text)\n",
    "df.head()"
   ]
  },
  {
   "cell_type": "markdown",
   "id": "9e4977e0",
   "metadata": {},
   "source": [
    "## **Step 4: Feature Extraction (TF-IDF Vectorization)**"
   ]
  },
  {
   "cell_type": "code",
   "execution_count": null,
   "id": "1a142a75",
   "metadata": {},
   "outputs": [],
   "source": [
    "vectorizer = TfidfVectorizer()\n",
    "X = vectorizer.fit_transform(df['cleaned_text'])\n",
    "y = df['sentiment'].map({'positive': 1, 'negative': 0})\n",
    "X_train, X_test, y_train, y_test = train_test_split(X, y, test_size=0.2, random_state=42)\n",
    "X.shape"
   ]
  },
  {
   "cell_type": "markdown",
   "id": "bc222d8d",
   "metadata": {},
   "source": [
    "## **Step 5: Train Naïve Bayes Classifier**"
   ]
  },
  {
   "cell_type": "code",
   "execution_count": null,
   "id": "92ddda92",
   "metadata": {},
   "outputs": [],
   "source": [
    "model = MultinomialNB()\n",
    "model.fit(X_train, y_train)\n",
    "y_pred = model.predict(X_test)\n",
    "accuracy_score(y_test, y_pred)"
   ]
  },
  {
   "cell_type": "markdown",
   "id": "e307eda1",
   "metadata": {},
   "source": [
    "## **Step 6: Model Evaluation**"
   ]
  },
  {
   "cell_type": "code",
   "execution_count": null,
   "id": "12d39885",
   "metadata": {},
   "outputs": [],
   "source": [
    "print('Confusion Matrix:\\n', confusion_matrix(y_test, y_pred))\n",
    "print('\\nClassification Report:\\n', classification_report(y_test, y_pred))"
   ]
  },
  {
   "cell_type": "markdown",
   "id": "16ae3e35",
   "metadata": {},
   "source": [
    "## **Step 7: Prediction on New Data**"
   ]
  },
  {
   "cell_type": "code",
   "execution_count": null,
   "id": "b532e470",
   "metadata": {},
   "outputs": [],
   "source": [
    "def predict_sentiment(text):\n",
    "    processed_text = preprocess_text(text)\n",
    "    vectorized_text = vectorizer.transform([processed_text])\n",
    "    prediction = model.predict(vectorized_text)\n",
    "    return 'positive' if prediction[0] == 1 else 'negative'\n",
    "\n",
    "sample_text = 'I really love this!' \n",
    "print(f'Sentiment: {predict_sentiment(sample_text)}')"
   ]
  },
  {
   "cell_type": "markdown",
   "id": "dd3a9bad",
   "metadata": {},
   "source": [
    "## **Conclusion**\n",
    "This notebook demonstrated sentiment analysis using NLP techniques with a Naïve Bayes classifier.\n",
    "It preprocesses text, extracts features using TF-IDF, trains a model, and makes predictions."
   ]
  }
 ],
 "metadata": {},
 "nbformat": 4,
 "nbformat_minor": 5
}
